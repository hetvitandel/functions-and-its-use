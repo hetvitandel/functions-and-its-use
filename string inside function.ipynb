{
 "cells": [
  {
   "cell_type": "code",
   "execution_count": 2,
   "id": "68324274",
   "metadata": {},
   "outputs": [
    {
     "name": "stdout",
     "output_type": "stream",
     "text": [
      "string: 1234abcd\n",
      "reversed String: dcba4321\n"
     ]
    }
   ],
   "source": [
    "def reverse(str):\n",
    "    l=\"\"\n",
    "    for i in str:\n",
    "        l=i+l\n",
    "    return l\n",
    "mystr = \"1234abcd\"\n",
    "print(\"string:\", mystr)\n",
    "print(\"reversed String:\", reverse(mystr))"
   ]
  },
  {
   "cell_type": "code",
   "execution_count": null,
   "id": "6652c9ca",
   "metadata": {},
   "outputs": [],
   "source": []
  }
 ],
 "metadata": {
  "kernelspec": {
   "display_name": "Python 3 (ipykernel)",
   "language": "python",
   "name": "python3"
  },
  "language_info": {
   "codemirror_mode": {
    "name": "ipython",
    "version": 3
   },
   "file_extension": ".py",
   "mimetype": "text/x-python",
   "name": "python",
   "nbconvert_exporter": "python",
   "pygments_lexer": "ipython3",
   "version": "3.9.7"
  }
 },
 "nbformat": 4,
 "nbformat_minor": 5
}
